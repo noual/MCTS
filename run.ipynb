{
 "cells": [
  {
   "cell_type": "code",
   "execution_count": 1,
   "metadata": {},
   "outputs": [],
   "source": [
    "from src.mcts import *\n",
    "from src.node import *"
   ]
  },
  {
   "cell_type": "code",
   "execution_count": 2,
   "metadata": {},
   "outputs": [],
   "source": [
    "def two_player_loop(game: game.Game, p1_strat: MCTAlgorithm, p2_strat: MCTAlgorithm):\n",
    "    \"\"\"\n",
    "    Implémente une boucle qui fait jouer deux joueurs l'un contre l'autre.\n",
    "    \"\"\"\n",
    "    while not game.is_over():\n",
    "        turn = game.whose_turn()\n",
    "\n",
    "        # Choisir le mouvement pour l'agent 1 ou 2\n",
    "        if turn == 1:\n",
    "            move = p1_strat(turn)\n",
    "            \n",
    "        elif turn == 2:\n",
    "            move = p2_strat(turn)\n",
    "\n",
    "        print(f\"Le move choisi par l'agent {turn} est : {move.move} d'une valeur de {np.round(np.mean(move.results), 3)}\")\n",
    "        game.move(move.move)\n",
    "        p1_strat.root = Node(copy.deepcopy(game), game.whose_turn())\n",
    "        p2_strat.root = Node(copy.deepcopy(game), game.whose_turn())\n",
    "        \n",
    "    return game.get_winner()"
   ]
  },
  {
   "cell_type": "code",
   "execution_count": 4,
   "metadata": {
    "scrolled": true
   },
   "outputs": [
    {
     "name": "stderr",
     "output_type": "stream",
     "text": [
      "100%|████████████████████████████████████████████████████████████████████████████████| 200/200 [00:09<00:00, 20.77it/s]\n",
      "  1%|▊                                                                                 | 2/200 [00:00<00:11, 17.94it/s]"
     ]
    },
    {
     "name": "stdout",
     "output_type": "stream",
     "text": [
      "Child : [9, 13] Results : 0.0 Games played : 3\n",
      "Child : [9, 14] Results : 0.5142857142857142 Games played : 70\n",
      "Child : [10, 14] Results : 0.375 Games played : 16\n",
      "Child : [10, 15] Results : 0.42105263157894735 Games played : 19\n",
      "Child : [11, 15] Results : 0.5217391304347826 Games played : 69\n",
      "Child : [11, 16] Results : 0.2 Games played : 5\n",
      "Child : [12, 16] Results : 0.3888888888888889 Games played : 18\n",
      "Le move choisi par l'agent 1 est : [11, 15] d'une valeur de 0.522\n"
     ]
    },
    {
     "name": "stderr",
     "output_type": "stream",
     "text": [
      "100%|████████████████████████████████████████████████████████████████████████████████| 200/200 [00:10<00:00, 18.44it/s]\n"
     ]
    },
    {
     "name": "stdout",
     "output_type": "stream",
     "text": [
      "Child : [21, 17] Results : 0.48 Games played : 25\n",
      "Child : [22, 17] Results : 0.5166666666666667 Games played : 60\n",
      "Child : [22, 18] Results : 0.5211267605633803 Games played : 71\n",
      "Child : [23, 18] Results : 0.2857142857142857 Games played : 7\n",
      "Child : [23, 19] Results : 0.42857142857142855 Games played : 21\n",
      "Child : [24, 19] Results : 0.2857142857142857 Games played : 7\n",
      "Child : [24, 20] Results : 0.3333333333333333 Games played : 9\n"
     ]
    },
    {
     "name": "stderr",
     "output_type": "stream",
     "text": [
      "  1%|▊                                                                                 | 2/200 [00:00<00:09, 20.00it/s]"
     ]
    },
    {
     "name": "stdout",
     "output_type": "stream",
     "text": [
      "Le move choisi par l'agent 2 est : [21, 17] d'une valeur de 0.48\n"
     ]
    },
    {
     "name": "stderr",
     "output_type": "stream",
     "text": [
      "100%|████████████████████████████████████████████████████████████████████████████████| 200/200 [00:08<00:00, 22.61it/s]\n",
      "  2%|█▏                                                                                | 3/200 [00:00<00:09, 20.92it/s]"
     ]
    },
    {
     "name": "stdout",
     "output_type": "stream",
     "text": [
      "Child : [7, 11] Results : 0.4 Games played : 45\n",
      "Child : [8, 11] Results : 0.3888888888888889 Games played : 36\n",
      "Child : [9, 13] Results : 0.2222222222222222 Games played : 9\n",
      "Child : [9, 14] Results : 0.6794871794871795 Games played : 78\n",
      "Child : [10, 14] Results : 0.2727272727272727 Games played : 11\n",
      "Child : [12, 16] Results : 0.16666666666666666 Games played : 6\n",
      "Child : [15, 18] Results : 0.16666666666666666 Games played : 6\n",
      "Child : [15, 19] Results : 0.2222222222222222 Games played : 9\n",
      "Le move choisi par l'agent 1 est : [9, 14] d'une valeur de 0.679\n"
     ]
    },
    {
     "name": "stderr",
     "output_type": "stream",
     "text": [
      "100%|████████████████████████████████████████████████████████████████████████████████| 200/200 [00:10<00:00, 18.84it/s]\n"
     ]
    },
    {
     "name": "stdout",
     "output_type": "stream",
     "text": [
      "Child : [17, 13] Results : 0.44680851063829785 Games played : 94\n",
      "Child : [22, 18] Results : 0.0 Games played : 3\n",
      "Child : [23, 18] Results : 0.2222222222222222 Games played : 9\n",
      "Child : [23, 19] Results : 0.2222222222222222 Games played : 9\n",
      "Child : [24, 19] Results : 0.3125 Games played : 16\n",
      "Child : [24, 20] Results : 0.0 Games played : 3\n",
      "Child : [25, 21] Results : 0.4393939393939394 Games played : 66\n"
     ]
    },
    {
     "name": "stderr",
     "output_type": "stream",
     "text": [
      "  2%|█▏                                                                                | 3/200 [00:00<00:06, 28.41it/s]"
     ]
    },
    {
     "name": "stdout",
     "output_type": "stream",
     "text": [
      "Le move choisi par l'agent 2 est : [25, 21] d'une valeur de 0.439\n"
     ]
    },
    {
     "name": "stderr",
     "output_type": "stream",
     "text": [
      "100%|████████████████████████████████████████████████████████████████████████████████| 200/200 [00:10<00:00, 19.41it/s]\n",
      "  2%|█▏                                                                                | 3/200 [00:00<00:08, 23.46it/s]"
     ]
    },
    {
     "name": "stdout",
     "output_type": "stream",
     "text": [
      "Child : [5, 9] Results : 0.2 Games played : 5\n",
      "Child : [6, 9] Results : 0.2 Games played : 5\n",
      "Child : [7, 11] Results : 0.46153846153846156 Games played : 26\n",
      "Child : [8, 11] Results : 0.45454545454545453 Games played : 33\n",
      "Child : [12, 16] Results : 0.5370370370370371 Games played : 108\n",
      "Child : [14, 18] Results : 0.25 Games played : 8\n",
      "Child : [15, 18] Results : 0.3 Games played : 10\n",
      "Child : [15, 19] Results : 0.2 Games played : 5\n",
      "Le move choisi par l'agent 1 est : [7, 11] d'une valeur de 0.462\n"
     ]
    },
    {
     "name": "stderr",
     "output_type": "stream",
     "text": [
      "100%|████████████████████████████████████████████████████████████████████████████████| 200/200 [00:10<00:00, 18.50it/s]\n"
     ]
    },
    {
     "name": "stdout",
     "output_type": "stream",
     "text": [
      "Child : [17, 13] Results : 0.375 Games played : 16\n",
      "Child : [22, 18] Results : 0.4444444444444444 Games played : 27\n",
      "Child : [23, 18] Results : 0.2 Games played : 5\n",
      "Child : [23, 19] Results : 0.2 Games played : 5\n",
      "Child : [24, 19] Results : 0.4482758620689655 Games played : 29\n",
      "Child : [24, 20] Results : 0.4090909090909091 Games played : 22\n",
      "Child : [29, 25] Results : 0.0 Games played : 3\n",
      "Child : [30, 25] Results : 0.5376344086021505 Games played : 93\n"
     ]
    },
    {
     "name": "stderr",
     "output_type": "stream",
     "text": [
      "  2%|█▏                                                                                | 3/200 [00:00<00:09, 21.08it/s]"
     ]
    },
    {
     "name": "stdout",
     "output_type": "stream",
     "text": [
      "Le move choisi par l'agent 2 est : [30, 25] d'une valeur de 0.538\n"
     ]
    },
    {
     "name": "stderr",
     "output_type": "stream",
     "text": [
      "100%|████████████████████████████████████████████████████████████████████████████████| 200/200 [00:07<00:00, 25.23it/s]\n",
      "  2%|█▏                                                                                | 3/200 [00:00<00:08, 22.09it/s]"
     ]
    },
    {
     "name": "stdout",
     "output_type": "stream",
     "text": [
      "Child : [2, 7] Results : 0.4 Games played : 10\n",
      "Child : [3, 7] Results : 0.5 Games played : 28\n",
      "Child : [5, 9] Results : 0.2857142857142857 Games played : 7\n",
      "Child : [6, 9] Results : 0.5434782608695652 Games played : 46\n",
      "Child : [11, 16] Results : 0.0 Games played : 2\n",
      "Child : [12, 16] Results : 0.7425742574257426 Games played : 101\n",
      "Child : [14, 18] Results : 0.0 Games played : 2\n",
      "Child : [15, 18] Results : 0.0 Games played : 2\n",
      "Child : [15, 19] Results : 0.0 Games played : 2\n",
      "Le move choisi par l'agent 1 est : [12, 16] d'une valeur de 0.743\n"
     ]
    },
    {
     "name": "stderr",
     "output_type": "stream",
     "text": [
      "100%|████████████████████████████████████████████████████████████████████████████████| 200/200 [00:10<00:00, 19.51it/s]\n"
     ]
    },
    {
     "name": "stdout",
     "output_type": "stream",
     "text": [
      "Child : [17, 13] Results : 0.4090909090909091 Games played : 44\n",
      "Child : [22, 18] Results : 0.48872180451127817 Games played : 133\n",
      "Child : [23, 18] Results : 0.0 Games played : 3\n",
      "Child : [23, 19] Results : 0.2727272727272727 Games played : 11\n",
      "Child : [24, 19] Results : 0.0 Games played : 3\n",
      "Child : [24, 20] Results : 0.16666666666666666 Games played : 6\n"
     ]
    },
    {
     "name": "stderr",
     "output_type": "stream",
     "text": [
      "C:\\Users\\Noé\\AppData\\Roaming\\Python\\Python37\\site-packages\\numpy\\core\\fromnumeric.py:3373: RuntimeWarning: Mean of empty slice.\n",
      "  out=out, **kwargs)\n",
      "C:\\Users\\Noé\\AppData\\Roaming\\Python\\Python37\\site-packages\\numpy\\core\\_methods.py:170: RuntimeWarning: invalid value encountered in double_scalars\n",
      "  ret = ret.dtype.type(ret / rcount)\n",
      "  1%|▊                                                                                 | 2/200 [00:00<00:10, 18.69it/s]"
     ]
    },
    {
     "name": "stdout",
     "output_type": "stream",
     "text": [
      "Le move choisi par l'agent 2 est : [22, 18] d'une valeur de 0.489\n",
      "Le move choisi par l'agent 1 est : [15, 22] d'une valeur de nan\n",
      "Le move choisi par l'agent 2 est : [25, 18] d'une valeur de nan\n",
      "Le move choisi par l'agent 2 est : [18, 9] d'une valeur de nan\n"
     ]
    },
    {
     "name": "stderr",
     "output_type": "stream",
     "text": [
      "100%|████████████████████████████████████████████████████████████████████████████████| 200/200 [00:06<00:00, 32.27it/s]\n",
      "  4%|███▎                                                                              | 8/200 [00:00<00:06, 30.93it/s]"
     ]
    },
    {
     "name": "stdout",
     "output_type": "stream",
     "text": [
      "Child : [5, 14] Results : 0.7371134020618557 Games played : 194\n",
      "Child : [6, 13] Results : 0.16666666666666666 Games played : 6\n",
      "Le move choisi par l'agent 1 est : [5, 14] d'une valeur de 0.737\n"
     ]
    },
    {
     "name": "stderr",
     "output_type": "stream",
     "text": [
      "100%|████████████████████████████████████████████████████████████████████████████████| 200/200 [00:08<00:00, 22.23it/s]\n"
     ]
    },
    {
     "name": "stdout",
     "output_type": "stream",
     "text": [
      "Child : [17, 13] Results : 0.25 Games played : 4\n",
      "Child : [23, 18] Results : 0.0 Games played : 2\n",
      "Child : [23, 19] Results : 0.25 Games played : 4\n",
      "Child : [24, 19] Results : 0.6890756302521008 Games played : 119\n",
      "Child : [24, 20] Results : 0.5957446808510638 Games played : 47\n",
      "Child : [26, 22] Results : 0.375 Games played : 8\n",
      "Child : [29, 25] Results : 0.5 Games played : 16\n"
     ]
    },
    {
     "name": "stderr",
     "output_type": "stream",
     "text": [
      "  2%|█▋                                                                                | 4/200 [00:00<00:05, 34.35it/s]"
     ]
    },
    {
     "name": "stdout",
     "output_type": "stream",
     "text": [
      "Le move choisi par l'agent 2 est : [24, 19] d'une valeur de 0.689\n"
     ]
    },
    {
     "name": "stderr",
     "output_type": "stream",
     "text": [
      "100%|████████████████████████████████████████████████████████████████████████████████| 200/200 [00:07<00:00, 27.29it/s]\n",
      "  2%|█▏                                                                                | 3/200 [00:00<00:08, 24.59it/s]"
     ]
    },
    {
     "name": "stdout",
     "output_type": "stream",
     "text": [
      "Child : [1, 5] Results : 0.0 Games played : 2\n",
      "Child : [2, 7] Results : 0.0 Games played : 2\n",
      "Child : [3, 7] Results : 0.0 Games played : 2\n",
      "Child : [6, 9] Results : 0.0 Games played : 2\n",
      "Child : [8, 12] Results : 0.0 Games played : 2\n",
      "Child : [10, 15] Results : 0.0 Games played : 2\n",
      "Child : [11, 15] Results : 0.0 Games played : 2\n",
      "Child : [14, 18] Results : 0.3333333333333333 Games played : 6\n",
      "Child : [16, 20] Results : 0.7055555555555556 Games played : 180\n",
      "Le move choisi par l'agent 1 est : [16, 20] d'une valeur de 0.706\n"
     ]
    },
    {
     "name": "stderr",
     "output_type": "stream",
     "text": [
      "100%|████████████████████████████████████████████████████████████████████████████████| 200/200 [00:10<00:00, 19.16it/s]\n"
     ]
    },
    {
     "name": "stdout",
     "output_type": "stream",
     "text": [
      "Child : [17, 13] Results : 0.2 Games played : 5\n",
      "Child : [19, 15] Results : 0.0 Games played : 3\n",
      "Child : [19, 16] Results : 0.2 Games played : 5\n",
      "Child : [23, 18] Results : 0.25 Games played : 8\n",
      "Child : [26, 22] Results : 0.5625 Games played : 64\n",
      "Child : [27, 24] Results : 0.4722222222222222 Games played : 36\n",
      "Child : [28, 24] Results : 0.2857142857142857 Games played : 7\n",
      "Child : [29, 25] Results : 0.5138888888888888 Games played : 72\n"
     ]
    },
    {
     "name": "stderr",
     "output_type": "stream",
     "text": [
      "  1%|▊                                                                                 | 2/200 [00:00<00:11, 17.16it/s]"
     ]
    },
    {
     "name": "stdout",
     "output_type": "stream",
     "text": [
      "Le move choisi par l'agent 2 est : [26, 22] d'une valeur de 0.562\n"
     ]
    },
    {
     "name": "stderr",
     "output_type": "stream",
     "text": [
      "100%|████████████████████████████████████████████████████████████████████████████████| 200/200 [00:07<00:00, 26.03it/s]\n",
      "  2%|██                                                                                | 5/200 [00:00<00:10, 18.97it/s]"
     ]
    },
    {
     "name": "stdout",
     "output_type": "stream",
     "text": [
      "Child : [1, 5] Results : 0.25 Games played : 4\n",
      "Child : [2, 7] Results : 0.0 Games played : 2\n",
      "Child : [3, 7] Results : 0.0 Games played : 2\n",
      "Child : [6, 9] Results : 0.0 Games played : 2\n",
      "Child : [8, 12] Results : 0.0 Games played : 2\n",
      "Child : [10, 15] Results : 0.7386363636363636 Games played : 176\n",
      "Child : [11, 15] Results : 0.0 Games played : 2\n",
      "Child : [11, 16] Results : 0.0 Games played : 2\n",
      "Child : [14, 18] Results : 0.3333333333333333 Games played : 6\n",
      "Child : [20, 24] Results : 0.0 Games played : 2\n",
      "Le move choisi par l'agent 1 est : [10, 15] d'une valeur de 0.739\n"
     ]
    },
    {
     "name": "stderr",
     "output_type": "stream",
     "text": [
      "100%|████████████████████████████████████████████████████████████████████████████████| 200/200 [00:11<00:00, 18.04it/s]\n"
     ]
    },
    {
     "name": "stdout",
     "output_type": "stream",
     "text": [
      "Child : [17, 10] Results : 0.4166666666666667 Games played : 12\n",
      "Child : [19, 10] Results : 0.648936170212766 Games played : 188\n"
     ]
    },
    {
     "name": "stderr",
     "output_type": "stream",
     "text": [
      "  2%|█▏                                                                                | 3/200 [00:00<00:07, 27.31it/s]"
     ]
    },
    {
     "name": "stdout",
     "output_type": "stream",
     "text": [
      "Le move choisi par l'agent 2 est : [19, 10] d'une valeur de 0.649\n",
      "Le move choisi par l'agent 1 est : [6, 15] d'une valeur de nan\n",
      "Le move choisi par l'agent 2 est : [17, 10] d'une valeur de nan\n"
     ]
    },
    {
     "name": "stderr",
     "output_type": "stream",
     "text": [
      "100%|████████████████████████████████████████████████████████████████████████████████| 200/200 [00:08<00:00, 24.69it/s]\n",
      "  1%|▊                                                                                 | 2/200 [00:00<00:14, 13.54it/s]"
     ]
    },
    {
     "name": "stdout",
     "output_type": "stream",
     "text": [
      "Child : [1, 5] Results : 0.16666666666666666 Games played : 6\n",
      "Child : [1, 6] Results : 0.2857142857142857 Games played : 14\n",
      "Child : [2, 6] Results : 0.0 Games played : 3\n",
      "Child : [2, 7] Results : 0.5948275862068966 Games played : 116\n",
      "Child : [3, 7] Results : 0.0 Games played : 3\n",
      "Child : [8, 12] Results : 0.0 Games played : 3\n",
      "Child : [11, 16] Results : 0.37142857142857144 Games played : 35\n",
      "Child : [15, 18] Results : 0.0 Games played : 3\n",
      "Child : [15, 19] Results : 0.0 Games played : 3\n",
      "Child : [20, 24] Results : 0.2857142857142857 Games played : 14\n",
      "Le move choisi par l'agent 1 est : [2, 7] d'une valeur de 0.595\n"
     ]
    },
    {
     "name": "stderr",
     "output_type": "stream",
     "text": [
      "100%|████████████████████████████████████████████████████████████████████████████████| 200/200 [00:08<00:00, 24.72it/s]\n"
     ]
    },
    {
     "name": "stdout",
     "output_type": "stream",
     "text": [
      "Child : [10, 6] Results : 0.4 Games played : 5\n",
      "Child : [21, 17] Results : 0.0 Games played : 2\n",
      "Child : [22, 17] Results : 0.7756410256410257 Games played : 156\n",
      "Child : [22, 18] Results : 0.5 Games played : 8\n",
      "Child : [23, 18] Results : 0.5 Games played : 8\n",
      "Child : [23, 19] Results : 0.0 Games played : 2\n",
      "Child : [27, 24] Results : 0.5 Games played : 8\n",
      "Child : [28, 24] Results : 0.25 Games played : 4\n",
      "Child : [29, 25] Results : 0.0 Games played : 2\n",
      "Child : [31, 26] Results : 0.4 Games played : 5\n"
     ]
    },
    {
     "name": "stderr",
     "output_type": "stream",
     "text": [
      "  4%|██▊                                                                               | 7/200 [00:00<00:08, 23.06it/s]"
     ]
    },
    {
     "name": "stdout",
     "output_type": "stream",
     "text": [
      "Le move choisi par l'agent 2 est : [22, 17] d'une valeur de 0.776\n",
      "Le move choisi par l'agent 1 est : [7, 14] d'une valeur de nan\n",
      "Le move choisi par l'agent 2 est : [17, 10] d'une valeur de nan\n"
     ]
    },
    {
     "name": "stderr",
     "output_type": "stream",
     "text": [
      "100%|████████████████████████████████████████████████████████████████████████████████| 200/200 [00:07<00:00, 28.45it/s]\n",
      "  2%|█▋                                                                                | 4/200 [00:00<00:06, 30.32it/s]"
     ]
    },
    {
     "name": "stdout",
     "output_type": "stream",
     "text": [
      "Child : [1, 5] Results : 0.18181818181818182 Games played : 22\n",
      "Child : [1, 6] Results : 0.0 Games played : 6\n",
      "Child : [3, 7] Results : 0.0 Games played : 6\n",
      "Child : [8, 12] Results : 0.2777777777777778 Games played : 72\n",
      "Child : [11, 16] Results : 0.2727272727272727 Games played : 66\n",
      "Child : [15, 18] Results : 0.09090909090909091 Games played : 11\n",
      "Child : [15, 19] Results : 0.0 Games played : 6\n",
      "Child : [20, 24] Results : 0.09090909090909091 Games played : 11\n",
      "Le move choisi par l'agent 1 est : [8, 12] d'une valeur de 0.278\n"
     ]
    },
    {
     "name": "stderr",
     "output_type": "stream",
     "text": [
      "100%|████████████████████████████████████████████████████████████████████████████████| 200/200 [00:07<00:00, 26.60it/s]\n"
     ]
    },
    {
     "name": "stdout",
     "output_type": "stream",
     "text": [
      "Child : [10, 6] Results : 0.6 Games played : 25\n",
      "Child : [10, 7] Results : 0.3333333333333333 Games played : 6\n",
      "Child : [21, 17] Results : 0.7319587628865979 Games played : 97\n",
      "Child : [23, 18] Results : 0.5 Games played : 12\n",
      "Child : [23, 19] Results : 0.25 Games played : 4\n",
      "Child : [27, 24] Results : 0.42857142857142855 Games played : 7\n",
      "Child : [28, 24] Results : 0.625 Games played : 32\n",
      "Child : [29, 25] Results : 0.0 Games played : 2\n",
      "Child : [31, 26] Results : 0.5333333333333333 Games played : 15\n"
     ]
    },
    {
     "name": "stderr",
     "output_type": "stream",
     "text": [
      "\r",
      "  0%|                                                                                          | 0/200 [00:00<?, ?it/s]"
     ]
    },
    {
     "name": "stdout",
     "output_type": "stream",
     "text": [
      "Le move choisi par l'agent 2 est : [21, 17] d'une valeur de 0.732\n"
     ]
    },
    {
     "name": "stderr",
     "output_type": "stream",
     "text": [
      "100%|████████████████████████████████████████████████████████████████████████████████| 200/200 [00:07<00:00, 27.17it/s]\n",
      "  4%|██▊                                                                               | 7/200 [00:00<00:06, 27.59it/s]"
     ]
    },
    {
     "name": "stdout",
     "output_type": "stream",
     "text": [
      "Child : [1, 5] Results : 0.30434782608695654 Games played : 69\n",
      "Child : [1, 6] Results : 0.0 Games played : 5\n",
      "Child : [3, 7] Results : 0.0 Games played : 5\n",
      "Child : [3, 8] Results : 0.0 Games played : 5\n",
      "Child : [4, 8] Results : 0.29508196721311475 Games played : 61\n",
      "Child : [11, 16] Results : 0.2857142857142857 Games played : 35\n",
      "Child : [12, 16] Results : 0.0 Games played : 5\n",
      "Child : [15, 18] Results : 0.0 Games played : 5\n",
      "Child : [15, 19] Results : 0.0 Games played : 5\n",
      "Child : [20, 24] Results : 0.0 Games played : 5\n",
      "Le move choisi par l'agent 1 est : [11, 16] d'une valeur de 0.286\n"
     ]
    },
    {
     "name": "stderr",
     "output_type": "stream",
     "text": [
      "100%|████████████████████████████████████████████████████████████████████████████████| 200/200 [00:07<00:00, 26.67it/s]\n"
     ]
    },
    {
     "name": "stdout",
     "output_type": "stream",
     "text": [
      "Child : [10, 6] Results : 0.5454545454545454 Games played : 11\n",
      "Child : [10, 7] Results : 0.42857142857142855 Games played : 7\n",
      "Child : [17, 13] Results : 0.4 Games played : 5\n",
      "Child : [17, 14] Results : 0.6829268292682927 Games played : 41\n",
      "Child : [23, 18] Results : 0.0 Games played : 2\n",
      "Child : [23, 19] Results : 0.6829268292682927 Games played : 41\n",
      "Child : [27, 24] Results : 0.4 Games played : 5\n",
      "Child : [28, 24] Results : 0.0 Games played : 2\n",
      "Child : [29, 25] Results : 0.7435897435897436 Games played : 78\n",
      "Child : [31, 26] Results : 0.5 Games played : 8\n"
     ]
    },
    {
     "name": "stderr",
     "output_type": "stream",
     "text": [
      "  2%|█▏                                                                                | 3/200 [00:00<00:07, 27.02it/s]"
     ]
    },
    {
     "name": "stdout",
     "output_type": "stream",
     "text": [
      "Le move choisi par l'agent 2 est : [29, 25] d'une valeur de 0.744\n"
     ]
    },
    {
     "name": "stderr",
     "output_type": "stream",
     "text": [
      "100%|████████████████████████████████████████████████████████████████████████████████| 200/200 [00:07<00:00, 25.16it/s]\n",
      "  2%|█▏                                                                                | 3/200 [00:00<00:07, 24.97it/s]"
     ]
    },
    {
     "name": "stdout",
     "output_type": "stream",
     "text": [
      "Child : [1, 5] Results : 0.2727272727272727 Games played : 33\n",
      "Child : [1, 6] Results : 0.1111111111111111 Games played : 9\n",
      "Child : [3, 7] Results : 0.0 Games played : 5\n",
      "Child : [3, 8] Results : 0.42 Games played : 100\n",
      "Child : [4, 8] Results : 0.0 Games played : 5\n",
      "Child : [15, 18] Results : 0.1111111111111111 Games played : 9\n",
      "Child : [15, 19] Results : 0.24 Games played : 25\n",
      "Child : [16, 19] Results : 0.1111111111111111 Games played : 9\n",
      "Child : [20, 24] Results : 0.0 Games played : 5\n",
      "Le move choisi par l'agent 1 est : [3, 8] d'une valeur de 0.42\n"
     ]
    },
    {
     "name": "stderr",
     "output_type": "stream",
     "text": [
      "100%|████████████████████████████████████████████████████████████████████████████████| 200/200 [00:08<00:00, 23.35it/s]\n"
     ]
    },
    {
     "name": "stdout",
     "output_type": "stream",
     "text": [
      "Child : [10, 6] Results : 0.4444444444444444 Games played : 9\n",
      "Child : [10, 7] Results : 0.7090909090909091 Games played : 55\n",
      "Child : [17, 13] Results : 0.6216216216216216 Games played : 37\n",
      "Child : [17, 14] Results : 0.25 Games played : 4\n",
      "Child : [23, 18] Results : 0.3333333333333333 Games played : 6\n",
      "Child : [23, 19] Results : 0.4444444444444444 Games played : 9\n",
      "Child : [25, 21] Results : 0.6607142857142857 Games played : 56\n",
      "Child : [25, 22] Results : 0.25 Games played : 4\n",
      "Child : [27, 24] Results : 0.25 Games played : 4\n",
      "Child : [28, 24] Results : 0.0 Games played : 2\n",
      "Child : [31, 26] Results : 0.5 Games played : 14\n"
     ]
    },
    {
     "name": "stderr",
     "output_type": "stream",
     "text": [
      "  2%|█▏                                                                                | 3/200 [00:00<00:06, 28.92it/s]"
     ]
    },
    {
     "name": "stdout",
     "output_type": "stream",
     "text": [
      "Le move choisi par l'agent 2 est : [10, 7] d'une valeur de 0.709\n"
     ]
    },
    {
     "name": "stderr",
     "output_type": "stream",
     "text": [
      "100%|████████████████████████████████████████████████████████████████████████████████| 200/200 [00:08<00:00, 23.41it/s]\n",
      "  2%|█▏                                                                                | 3/200 [00:00<00:07, 27.27it/s]"
     ]
    },
    {
     "name": "stdout",
     "output_type": "stream",
     "text": [
      "Child : [1, 5] Results : 0.15384615384615385 Games played : 13\n",
      "Child : [1, 6] Results : 0.21739130434782608 Games played : 23\n",
      "Child : [8, 11] Results : 0.32038834951456313 Games played : 103\n",
      "Child : [15, 18] Results : 0.0 Games played : 5\n",
      "Child : [15, 19] Results : 0.2682926829268293 Games played : 41\n",
      "Child : [16, 19] Results : 0.1 Games played : 10\n",
      "Child : [20, 24] Results : 0.0 Games played : 5\n",
      "Le move choisi par l'agent 1 est : [15, 19] d'une valeur de 0.268\n"
     ]
    },
    {
     "name": "stderr",
     "output_type": "stream",
     "text": [
      "100%|████████████████████████████████████████████████████████████████████████████████| 200/200 [00:09<00:00, 20.58it/s]\n"
     ]
    },
    {
     "name": "stdout",
     "output_type": "stream",
     "text": [
      "Child : [7, 2] Results : 0.3333333333333333 Games played : 6\n",
      "Child : [7, 3] Results : 0.5333333333333333 Games played : 15\n",
      "Child : [17, 13] Results : 0.42857142857142855 Games played : 7\n",
      "Child : [17, 14] Results : 0.42857142857142855 Games played : 7\n",
      "Child : [23, 18] Results : 0.0 Games played : 2\n",
      "Child : [25, 21] Results : 0.6615384615384615 Games played : 65\n",
      "Child : [25, 22] Results : 0.5714285714285714 Games played : 21\n",
      "Child : [27, 24] Results : 0.6341463414634146 Games played : 41\n",
      "Child : [28, 24] Results : 0.0 Games played : 2\n",
      "Child : [31, 26] Results : 0.6176470588235294 Games played : 34\n"
     ]
    },
    {
     "name": "stderr",
     "output_type": "stream",
     "text": [
      "  2%|█▋                                                                                | 4/200 [00:00<00:05, 33.85it/s]"
     ]
    },
    {
     "name": "stdout",
     "output_type": "stream",
     "text": [
      "Le move choisi par l'agent 2 est : [27, 24] d'une valeur de 0.634\n"
     ]
    },
    {
     "name": "stderr",
     "output_type": "stream",
     "text": [
      "100%|████████████████████████████████████████████████████████████████████████████████| 200/200 [00:07<00:00, 25.65it/s]\n",
      "  2%|█▏                                                                                | 3/200 [00:00<00:09, 21.36it/s]"
     ]
    },
    {
     "name": "stdout",
     "output_type": "stream",
     "text": [
      "Child : [19, 26] Results : 0.13725490196078433 Games played : 51\n",
      "Child : [20, 27] Results : 0.2080536912751678 Games played : 149\n",
      "Le move choisi par l'agent 1 est : [20, 27] d'une valeur de 0.208\n",
      "Le move choisi par l'agent 2 est : [31, 24] d'une valeur de nan\n",
      "Le move choisi par l'agent 2 est : [24, 15] d'une valeur de nan\n"
     ]
    },
    {
     "name": "stderr",
     "output_type": "stream",
     "text": [
      "100%|████████████████████████████████████████████████████████████████████████████████| 200/200 [00:07<00:00, 27.77it/s]\n",
      "  2%|██                                                                                | 5/200 [00:00<00:08, 22.90it/s]"
     ]
    },
    {
     "name": "stdout",
     "output_type": "stream",
     "text": [
      "Child : [1, 5] Results : 0.12121212121212122 Games played : 33\n",
      "Child : [1, 6] Results : 0.10714285714285714 Games played : 28\n",
      "Child : [8, 11] Results : 0.12121212121212122 Games played : 33\n",
      "Child : [16, 19] Results : 0.10714285714285714 Games played : 28\n",
      "Child : [16, 20] Results : 0.1794871794871795 Games played : 78\n",
      "Le move choisi par l'agent 1 est : [16, 20] d'une valeur de 0.179\n"
     ]
    },
    {
     "name": "stderr",
     "output_type": "stream",
     "text": [
      "100%|████████████████████████████████████████████████████████████████████████████████| 200/200 [00:07<00:00, 25.93it/s]\n"
     ]
    },
    {
     "name": "stdout",
     "output_type": "stream",
     "text": [
      "Child : [7, 2] Results : 0.7608695652173914 Games played : 46\n",
      "Child : [7, 3] Results : 0.6923076923076923 Games played : 26\n",
      "Child : [15, 10] Results : 0.6428571428571429 Games played : 14\n",
      "Child : [15, 11] Results : 0.6666666666666666 Games played : 18\n",
      "Child : [17, 13] Results : 0.3333333333333333 Games played : 3\n",
      "Child : [17, 14] Results : 0.5833333333333334 Games played : 12\n",
      "Child : [23, 18] Results : 0.5555555555555556 Games played : 9\n",
      "Child : [23, 19] Results : 0.6818181818181818 Games played : 22\n",
      "Child : [25, 21] Results : 0.7380952380952381 Games played : 42\n",
      "Child : [25, 22] Results : 0.3333333333333333 Games played : 3\n",
      "Child : [28, 24] Results : 0.0 Games played : 2\n",
      "Child : [32, 27] Results : 0.3333333333333333 Games played : 3\n"
     ]
    },
    {
     "name": "stderr",
     "output_type": "stream",
     "text": [
      "  2%|█▏                                                                                | 3/200 [00:00<00:06, 29.70it/s]"
     ]
    },
    {
     "name": "stdout",
     "output_type": "stream",
     "text": [
      "Le move choisi par l'agent 2 est : [7, 2] d'une valeur de 0.761\n"
     ]
    },
    {
     "name": "stderr",
     "output_type": "stream",
     "text": [
      "100%|████████████████████████████████████████████████████████████████████████████████| 200/200 [00:06<00:00, 32.89it/s]\n",
      "  2%|█▋                                                                                | 4/200 [00:00<00:05, 35.68it/s]"
     ]
    },
    {
     "name": "stdout",
     "output_type": "stream",
     "text": [
      "Child : [1, 5] Results : 0.25210084033613445 Games played : 119\n",
      "Child : [1, 6] Results : 0.0 Games played : 8\n",
      "Child : [8, 11] Results : 0.18421052631578946 Games played : 38\n",
      "Child : [12, 16] Results : 0.13636363636363635 Games played : 22\n",
      "Child : [20, 24] Results : 0.07692307692307693 Games played : 13\n",
      "Le move choisi par l'agent 1 est : [1, 5] d'une valeur de 0.252\n"
     ]
    },
    {
     "name": "stderr",
     "output_type": "stream",
     "text": [
      "100%|████████████████████████████████████████████████████████████████████████████████| 200/200 [00:05<00:00, 34.48it/s]\n"
     ]
    },
    {
     "name": "stdout",
     "output_type": "stream",
     "text": [
      "Child : [2, 6] Results : 0.7058823529411765 Games played : 17\n",
      "Child : [2, 7] Results : 0.6923076923076923 Games played : 13\n",
      "Child : [15, 10] Results : 0.0 Games played : 1\n",
      "Child : [15, 11] Results : 0.0 Games played : 1\n",
      "Child : [17, 13] Results : 0.8181818181818182 Games played : 55\n",
      "Child : [17, 14] Results : 0.8163265306122449 Games played : 49\n",
      "Child : [23, 18] Results : 0.625 Games played : 8\n",
      "Child : [23, 19] Results : 0.0 Games played : 1\n",
      "Child : [25, 21] Results : 0.6923076923076923 Games played : 13\n",
      "Child : [25, 22] Results : 0.7878787878787878 Games played : 33\n",
      "Child : [28, 24] Results : 0.5 Games played : 6\n",
      "Child : [32, 27] Results : 0.3333333333333333 Games played : 3\n"
     ]
    },
    {
     "name": "stderr",
     "output_type": "stream",
     "text": [
      "  2%|█▏                                                                                | 3/200 [00:00<00:07, 26.44it/s]"
     ]
    },
    {
     "name": "stdout",
     "output_type": "stream",
     "text": [
      "Le move choisi par l'agent 2 est : [23, 18] d'une valeur de 0.625\n"
     ]
    },
    {
     "name": "stderr",
     "output_type": "stream",
     "text": [
      "100%|████████████████████████████████████████████████████████████████████████████████| 200/200 [00:06<00:00, 29.65it/s]\n",
      "  2%|█▏                                                                                | 3/200 [00:00<00:08, 24.25it/s]"
     ]
    },
    {
     "name": "stdout",
     "output_type": "stream",
     "text": [
      "Child : [5, 9] Results : 0.14285714285714285 Games played : 42\n",
      "Child : [8, 11] Results : 0.058823529411764705 Games played : 17\n",
      "Child : [12, 16] Results : 0.25806451612903225 Games played : 124\n",
      "Child : [20, 24] Results : 0.058823529411764705 Games played : 17\n",
      "Le move choisi par l'agent 1 est : [12, 16] d'une valeur de 0.258\n"
     ]
    },
    {
     "name": "stderr",
     "output_type": "stream",
     "text": [
      "100%|████████████████████████████████████████████████████████████████████████████████| 200/200 [00:05<00:00, 39.30it/s]\n"
     ]
    },
    {
     "name": "stdout",
     "output_type": "stream",
     "text": [
      "Child : [2, 6] Results : 0.8125 Games played : 48\n",
      "Child : [2, 7] Results : 0.0 Games played : 1\n",
      "Child : [15, 10] Results : 0.6363636363636364 Games played : 11\n",
      "Child : [15, 11] Results : 0.3333333333333333 Games played : 3\n",
      "Child : [17, 13] Results : 0.835820895522388 Games played : 67\n",
      "Child : [17, 14] Results : 0.0 Games played : 1\n",
      "Child : [18, 14] Results : 0.7777777777777778 Games played : 27\n",
      "Child : [25, 21] Results : 0.0 Games played : 1\n",
      "Child : [25, 22] Results : 0.8695652173913043 Games played : 23\n",
      "Child : [28, 24] Results : 0.3333333333333333 Games played : 3\n",
      "Child : [32, 27] Results : 0.6666666666666666 Games played : 15\n"
     ]
    },
    {
     "name": "stderr",
     "output_type": "stream",
     "text": [
      "  1%|▊                                                                                 | 2/200 [00:00<00:10, 19.75it/s]"
     ]
    },
    {
     "name": "stdout",
     "output_type": "stream",
     "text": [
      "Le move choisi par l'agent 2 est : [25, 22] d'une valeur de 0.87\n"
     ]
    },
    {
     "name": "stderr",
     "output_type": "stream",
     "text": [
      "100%|████████████████████████████████████████████████████████████████████████████████| 200/200 [00:06<00:00, 30.83it/s]\n",
      "  2%|█▏                                                                                | 3/200 [00:00<00:21,  9.25it/s]"
     ]
    },
    {
     "name": "stdout",
     "output_type": "stream",
     "text": [
      "Child : [5, 9] Results : 0.0 Games played : 16\n",
      "Child : [8, 11] Results : 0.08108108108108109 Games played : 37\n",
      "Child : [8, 12] Results : 0.09302325581395349 Games played : 43\n",
      "Child : [16, 19] Results : 0.14772727272727273 Games played : 88\n",
      "Child : [20, 24] Results : 0.0 Games played : 16\n",
      "Le move choisi par l'agent 1 est : [16, 19] d'une valeur de 0.148\n"
     ]
    },
    {
     "name": "stderr",
     "output_type": "stream",
     "text": [
      "100%|████████████████████████████████████████████████████████████████████████████████| 200/200 [00:06<00:00, 32.54it/s]\n"
     ]
    },
    {
     "name": "stdout",
     "output_type": "stream",
     "text": [
      "Child : [2, 6] Results : 0.0 Games played : 1\n",
      "Child : [2, 7] Results : 0.8666666666666667 Games played : 30\n",
      "Child : [15, 10] Results : 0.7857142857142857 Games played : 42\n",
      "Child : [15, 11] Results : 0.8245614035087719 Games played : 57\n",
      "Child : [17, 13] Results : 0.0 Games played : 1\n",
      "Child : [17, 14] Results : 0.7878787878787878 Games played : 33\n",
      "Child : [18, 14] Results : 0.75 Games played : 28\n",
      "Child : [28, 24] Results : 0.3333333333333333 Games played : 3\n",
      "Child : [32, 27] Results : 0.4 Games played : 5\n"
     ]
    },
    {
     "name": "stderr",
     "output_type": "stream",
     "text": [
      "  2%|█▋                                                                                | 4/200 [00:00<00:06, 28.61it/s]"
     ]
    },
    {
     "name": "stdout",
     "output_type": "stream",
     "text": [
      "Le move choisi par l'agent 2 est : [2, 7] d'une valeur de 0.867\n"
     ]
    },
    {
     "name": "stderr",
     "output_type": "stream",
     "text": [
      "100%|████████████████████████████████████████████████████████████████████████████████| 200/200 [00:06<00:00, 29.12it/s]\n",
      "  2%|█▋                                                                                | 4/200 [00:00<00:05, 38.46it/s]"
     ]
    },
    {
     "name": "stdout",
     "output_type": "stream",
     "text": [
      "Child : [5, 9] Results : 0.0 Games played : 8\n",
      "Child : [8, 11] Results : 0.0 Games played : 8\n",
      "Child : [8, 12] Results : 0.17142857142857143 Games played : 35\n",
      "Child : [19, 23] Results : 0.24812030075187969 Games played : 133\n",
      "Child : [19, 24] Results : 0.0 Games played : 8\n",
      "Child : [20, 24] Results : 0.0 Games played : 8\n",
      "Le move choisi par l'agent 1 est : [19, 23] d'une valeur de 0.248\n"
     ]
    },
    {
     "name": "stderr",
     "output_type": "stream",
     "text": [
      "100%|████████████████████████████████████████████████████████████████████████████████| 200/200 [00:06<00:00, 31.94it/s]\n"
     ]
    },
    {
     "name": "stdout",
     "output_type": "stream",
     "text": [
      "Child : [7, 2] Results : 0.6666666666666666 Games played : 12\n",
      "Child : [7, 3] Results : 0.5 Games played : 4\n",
      "Child : [7, 10] Results : 0.3333333333333333 Games played : 3\n",
      "Child : [7, 11] Results : 0.0 Games played : 1\n",
      "Child : [15, 10] Results : 0.7368421052631579 Games played : 19\n",
      "Child : [15, 11] Results : 0.76 Games played : 25\n",
      "Child : [17, 13] Results : 0.7931034482758621 Games played : 29\n",
      "Child : [17, 14] Results : 0.855072463768116 Games played : 69\n",
      "Child : [18, 14] Results : 0.8055555555555556 Games played : 36\n",
      "Child : [28, 24] Results : 0.0 Games played : 1\n",
      "Child : [32, 27] Results : 0.0 Games played : 1\n"
     ]
    },
    {
     "name": "stderr",
     "output_type": "stream",
     "text": [
      "  4%|███▎                                                                              | 8/200 [00:00<00:05, 32.44it/s]"
     ]
    },
    {
     "name": "stdout",
     "output_type": "stream",
     "text": [
      "Le move choisi par l'agent 2 est : [17, 14] d'une valeur de 0.855\n"
     ]
    },
    {
     "name": "stderr",
     "output_type": "stream",
     "text": [
      "100%|████████████████████████████████████████████████████████████████████████████████| 200/200 [00:06<00:00, 31.42it/s]\n",
      "  6%|████▊                                                                            | 12/200 [00:00<00:05, 33.08it/s]"
     ]
    },
    {
     "name": "stdout",
     "output_type": "stream",
     "text": [
      "Child : [5, 9] Results : 0.058823529411764705 Games played : 17\n",
      "Child : [8, 11] Results : 0.0 Games played : 10\n",
      "Child : [8, 12] Results : 0.058823529411764705 Games played : 17\n",
      "Child : [20, 24] Results : 0.1111111111111111 Games played : 18\n",
      "Child : [23, 26] Results : 0.2109375 Games played : 128\n",
      "Child : [23, 27] Results : 0.0 Games played : 10\n",
      "Le move choisi par l'agent 1 est : [20, 24] d'une valeur de 0.111\n",
      "Le move choisi par l'agent 2 est : [28, 19] d'une valeur de nan\n"
     ]
    },
    {
     "name": "stderr",
     "output_type": "stream",
     "text": [
      "100%|████████████████████████████████████████████████████████████████████████████████| 200/200 [00:06<00:00, 29.09it/s]\n",
      "  2%|█▏                                                                                | 3/200 [00:00<00:06, 29.70it/s]"
     ]
    },
    {
     "name": "stdout",
     "output_type": "stream",
     "text": [
      "Child : [5, 9] Results : 0.08 Games played : 25\n",
      "Child : [8, 11] Results : 0.0 Games played : 12\n",
      "Child : [8, 12] Results : 0.14754098360655737 Games played : 61\n",
      "Child : [23, 26] Results : 0.26666666666666666 Games played : 90\n",
      "Child : [23, 27] Results : 0.0 Games played : 12\n",
      "Le move choisi par l'agent 1 est : [23, 26] d'une valeur de 0.267\n"
     ]
    },
    {
     "name": "stderr",
     "output_type": "stream",
     "text": [
      "100%|████████████████████████████████████████████████████████████████████████████████| 200/200 [00:07<00:00, 25.07it/s]\n"
     ]
    },
    {
     "name": "stdout",
     "output_type": "stream",
     "text": [
      "Child : [7, 2] Results : 0.6875 Games played : 32\n",
      "Child : [7, 3] Results : 0.0 Games played : 2\n",
      "Child : [7, 10] Results : 0.5 Games played : 8\n",
      "Child : [7, 11] Results : 0.5833333333333334 Games played : 12\n",
      "Child : [14, 9] Results : 0.4 Games played : 5\n",
      "Child : [14, 10] Results : 0.6896551724137931 Games played : 29\n",
      "Child : [15, 10] Results : 0.5555555555555556 Games played : 9\n",
      "Child : [15, 11] Results : 0.0 Games played : 2\n",
      "Child : [19, 16] Results : 0.6785714285714286 Games played : 28\n",
      "Child : [22, 17] Results : 0.7111111111111111 Games played : 45\n",
      "Child : [32, 27] Results : 0.5 Games played : 8\n",
      "Child : [32, 28] Results : 0.65 Games played : 20\n"
     ]
    },
    {
     "name": "stderr",
     "output_type": "stream",
     "text": [
      "  2%|█▋                                                                                | 4/200 [00:00<00:06, 29.36it/s]"
     ]
    },
    {
     "name": "stdout",
     "output_type": "stream",
     "text": [
      "Le move choisi par l'agent 2 est : [15, 10] d'une valeur de 0.556\n"
     ]
    },
    {
     "name": "stderr",
     "output_type": "stream",
     "text": [
      "100%|████████████████████████████████████████████████████████████████████████████████| 200/200 [00:07<00:00, 28.10it/s]\n",
      "  4%|██▊                                                                               | 7/200 [00:00<00:05, 34.77it/s]"
     ]
    },
    {
     "name": "stdout",
     "output_type": "stream",
     "text": [
      "Child : [5, 9] Results : 0.0 Games played : 5\n",
      "Child : [8, 11] Results : 0.15384615384615385 Games played : 13\n",
      "Child : [8, 12] Results : 0.23076923076923078 Games played : 26\n",
      "Child : [26, 30] Results : 0.30434782608695654 Games played : 69\n",
      "Child : [26, 31] Results : 0.3218390804597701 Games played : 87\n",
      "Le move choisi par l'agent 1 est : [26, 31] d'une valeur de 0.322\n"
     ]
    },
    {
     "name": "stderr",
     "output_type": "stream",
     "text": [
      "100%|████████████████████████████████████████████████████████████████████████████████| 200/200 [00:05<00:00, 34.78it/s]\n"
     ]
    },
    {
     "name": "stdout",
     "output_type": "stream",
     "text": [
      "Child : [7, 2] Results : 0.7755102040816326 Games played : 49\n",
      "Child : [7, 3] Results : 0.7272727272727273 Games played : 22\n",
      "Child : [7, 11] Results : 0.0 Games played : 1\n",
      "Child : [10, 6] Results : 0.7 Games played : 20\n",
      "Child : [14, 9] Results : 0.0 Games played : 1\n",
      "Child : [18, 15] Results : 0.7 Games played : 20\n",
      "Child : [19, 15] Results : 0.5 Games played : 6\n",
      "Child : [19, 16] Results : 0.0 Games played : 1\n",
      "Child : [22, 17] Results : 0.8 Games played : 70\n",
      "Child : [32, 27] Results : 0.5555555555555556 Games played : 9\n",
      "Child : [32, 28] Results : 0.0 Games played : 1\n"
     ]
    },
    {
     "name": "stderr",
     "output_type": "stream",
     "text": [
      "  2%|██                                                                                | 5/200 [00:00<00:03, 49.88it/s]"
     ]
    },
    {
     "name": "stdout",
     "output_type": "stream",
     "text": [
      "Le move choisi par l'agent 2 est : [7, 3] d'une valeur de 0.727\n"
     ]
    },
    {
     "name": "stderr",
     "output_type": "stream",
     "text": [
      "100%|████████████████████████████████████████████████████████████████████████████████| 200/200 [00:05<00:00, 35.69it/s]\n",
      "  2%|█▏                                                                                | 3/200 [00:00<00:07, 27.71it/s]"
     ]
    },
    {
     "name": "stdout",
     "output_type": "stream",
     "text": [
      "Child : [5, 9] Results : 0.0 Games played : 6\n",
      "Child : [8, 11] Results : 0.0 Games played : 6\n",
      "Child : [8, 12] Results : 0.0 Games played : 6\n",
      "Child : [31, 26] Results : 0.45454545454545453 Games played : 176\n",
      "Child : [31, 27] Results : 0.0 Games played : 6\n",
      "Le move choisi par l'agent 1 est : [31, 26] d'une valeur de 0.455\n",
      "Le move choisi par l'agent 2 est : [3, 12] d'une valeur de nan\n",
      "Le move choisi par l'agent 1 est : [26, 17] d'une valeur de nan\n"
     ]
    },
    {
     "name": "stderr",
     "output_type": "stream",
     "text": [
      "100%|████████████████████████████████████████████████████████████████████████████████| 200/200 [00:05<00:00, 34.57it/s]\n"
     ]
    },
    {
     "name": "stdout",
     "output_type": "stream",
     "text": [
      "Child : [10, 6] Results : 0.5714285714285714 Games played : 14\n",
      "Child : [10, 7] Results : 0.3333333333333333 Games played : 3\n",
      "Child : [12, 8] Results : 0.0 Games played : 2\n",
      "Child : [12, 16] Results : 0.625 Games played : 16\n",
      "Child : [14, 9] Results : 0.3333333333333333 Games played : 3\n",
      "Child : [18, 15] Results : 0.6190476190476191 Games played : 21\n",
      "Child : [19, 15] Results : 0.7894736842105263 Games played : 76\n",
      "Child : [19, 16] Results : 0.6 Games played : 20\n",
      "Child : [32, 27] Results : 0.42857142857142855 Games played : 7\n",
      "Child : [32, 28] Results : 0.7105263157894737 Games played : 38\n"
     ]
    },
    {
     "name": "stderr",
     "output_type": "stream",
     "text": [
      "  2%|██                                                                                | 5/200 [00:00<00:04, 45.45it/s]"
     ]
    },
    {
     "name": "stdout",
     "output_type": "stream",
     "text": [
      "Le move choisi par l'agent 2 est : [19, 15] d'une valeur de 0.789\n"
     ]
    },
    {
     "name": "stderr",
     "output_type": "stream",
     "text": [
      "100%|████████████████████████████████████████████████████████████████████████████████| 200/200 [00:05<00:00, 36.64it/s]\n",
      "  3%|██▍                                                                               | 6/200 [00:00<00:03, 56.17it/s]"
     ]
    },
    {
     "name": "stdout",
     "output_type": "stream",
     "text": [
      "Child : [4, 8] Results : 0.1 Games played : 10\n",
      "Child : [5, 9] Results : 0.0 Games played : 5\n",
      "Child : [17, 21] Results : 0.1 Games played : 10\n",
      "Child : [17, 22] Results : 0.0 Games played : 5\n",
      "Child : [17, 13] Results : 0.4823529411764706 Games played : 170\n",
      "Le move choisi par l'agent 1 est : [17, 13] d'une valeur de 0.482\n"
     ]
    },
    {
     "name": "stderr",
     "output_type": "stream",
     "text": [
      "100%|████████████████████████████████████████████████████████████████████████████████| 200/200 [00:05<00:00, 38.47it/s]\n"
     ]
    },
    {
     "name": "stdout",
     "output_type": "stream",
     "text": [
      "Child : [10, 6] Results : 0.72 Games played : 25\n",
      "Child : [10, 7] Results : 0.8205128205128205 Games played : 78\n",
      "Child : [12, 8] Results : 0.0 Games played : 1\n",
      "Child : [12, 16] Results : 0.5714285714285714 Games played : 7\n",
      "Child : [14, 9] Results : 0.8 Games played : 25\n",
      "Child : [15, 11] Results : 0.5714285714285714 Games played : 7\n",
      "Child : [32, 27] Results : 0.0 Games played : 1\n",
      "Child : [32, 28] Results : 0.8035714285714286 Games played : 56\n"
     ]
    },
    {
     "name": "stderr",
     "output_type": "stream",
     "text": [
      "  6%|████▍                                                                            | 11/200 [00:00<00:03, 47.99it/s]"
     ]
    },
    {
     "name": "stdout",
     "output_type": "stream",
     "text": [
      "Le move choisi par l'agent 2 est : [14, 9] d'une valeur de 0.8\n"
     ]
    },
    {
     "name": "stderr",
     "output_type": "stream",
     "text": [
      "100%|████████████████████████████████████████████████████████████████████████████████| 200/200 [00:05<00:00, 37.57it/s]\n",
      "  2%|█▏                                                                                | 3/200 [00:00<00:08, 23.22it/s]"
     ]
    },
    {
     "name": "stdout",
     "output_type": "stream",
     "text": [
      "Child : [5, 14] Results : 0.5279187817258884 Games played : 197\n",
      "Child : [13, 6] Results : 0.0 Games played : 3\n",
      "Le move choisi par l'agent 1 est : [5, 14] d'une valeur de 0.528\n",
      "Le move choisi par l'agent 1 est : [14, 23] d'une valeur de nan\n"
     ]
    },
    {
     "name": "stderr",
     "output_type": "stream",
     "text": [
      "100%|████████████████████████████████████████████████████████████████████████████████| 200/200 [00:06<00:00, 28.87it/s]\n"
     ]
    },
    {
     "name": "stdout",
     "output_type": "stream",
     "text": [
      "Child : [10, 6] Results : 0.4444444444444444 Games played : 27\n",
      "Child : [10, 7] Results : 0.5638297872340425 Games played : 94\n",
      "Child : [12, 8] Results : 0.0 Games played : 3\n",
      "Child : [12, 16] Results : 0.45454545454545453 Games played : 33\n",
      "Child : [15, 11] Results : 0.45714285714285713 Games played : 35\n",
      "Child : [32, 27] Results : 0.2 Games played : 5\n",
      "Child : [32, 28] Results : 0.0 Games played : 3\n"
     ]
    },
    {
     "name": "stderr",
     "output_type": "stream",
     "text": [
      "  2%|█▋                                                                                | 4/200 [00:00<00:06, 29.63it/s]"
     ]
    },
    {
     "name": "stdout",
     "output_type": "stream",
     "text": [
      "Le move choisi par l'agent 2 est : [10, 7] d'une valeur de 0.564\n"
     ]
    },
    {
     "name": "stderr",
     "output_type": "stream",
     "text": [
      "100%|████████████████████████████████████████████████████████████████████████████████| 200/200 [00:06<00:00, 32.60it/s]\n",
      "  2%|██                                                                                | 5/200 [00:00<00:04, 40.64it/s]"
     ]
    },
    {
     "name": "stdout",
     "output_type": "stream",
     "text": [
      "Child : [4, 8] Results : 0.14285714285714285 Games played : 7\n",
      "Child : [13, 17] Results : 0.14285714285714285 Games played : 7\n",
      "Child : [13, 9] Results : 0.14285714285714285 Games played : 7\n",
      "Child : [23, 26] Results : 0.46285714285714286 Games played : 175\n",
      "Child : [23, 27] Results : 0.0 Games played : 4\n",
      "Le move choisi par l'agent 1 est : [23, 26] d'une valeur de 0.463\n"
     ]
    },
    {
     "name": "stderr",
     "output_type": "stream",
     "text": [
      "100%|████████████████████████████████████████████████████████████████████████████████| 200/200 [00:07<00:00, 28.55it/s]\n"
     ]
    },
    {
     "name": "stdout",
     "output_type": "stream",
     "text": [
      "Child : [7, 2] Results : 0.4878048780487805 Games played : 41\n",
      "Child : [7, 3] Results : 0.42105263157894735 Games played : 19\n",
      "Child : [12, 8] Results : 0.0 Games played : 3\n",
      "Child : [12, 16] Results : 0.5316455696202531 Games played : 79\n",
      "Child : [15, 10] Results : 0.44 Games played : 25\n",
      "Child : [15, 11] Results : 0.2 Games played : 5\n",
      "Child : [32, 27] Results : 0.2 Games played : 5\n",
      "Child : [32, 28] Results : 0.43478260869565216 Games played : 23\n"
     ]
    },
    {
     "name": "stderr",
     "output_type": "stream",
     "text": [
      "  4%|██▊                                                                               | 7/200 [00:00<00:06, 28.04it/s]"
     ]
    },
    {
     "name": "stdout",
     "output_type": "stream",
     "text": [
      "Le move choisi par l'agent 2 est : [12, 16] d'une valeur de 0.532\n"
     ]
    },
    {
     "name": "stderr",
     "output_type": "stream",
     "text": [
      "100%|████████████████████████████████████████████████████████████████████████████████| 200/200 [00:08<00:00, 23.95it/s]\n",
      "  2%|█▋                                                                                | 4/200 [00:00<00:05, 35.94it/s]"
     ]
    },
    {
     "name": "stdout",
     "output_type": "stream",
     "text": [
      "Child : [4, 8] Results : 0.23809523809523808 Games played : 21\n",
      "Child : [13, 17] Results : 0.36585365853658536 Games played : 123\n",
      "Child : [13, 9] Results : 0.16666666666666666 Games played : 12\n",
      "Child : [26, 30] Results : 0.28125 Games played : 32\n",
      "Child : [26, 31] Results : 0.16666666666666666 Games played : 12\n",
      "Le move choisi par l'agent 1 est : [13, 17] d'une valeur de 0.366\n"
     ]
    },
    {
     "name": "stderr",
     "output_type": "stream",
     "text": [
      "100%|████████████████████████████████████████████████████████████████████████████████| 200/200 [00:08<00:00, 23.89it/s]\n"
     ]
    },
    {
     "name": "stdout",
     "output_type": "stream",
     "text": [
      "Child : [7, 2] Results : 0.5 Games played : 20\n",
      "Child : [7, 3] Results : 0.25 Games played : 4\n",
      "Child : [15, 10] Results : 0.375 Games played : 8\n",
      "Child : [15, 11] Results : 0.0 Games played : 2\n",
      "Child : [16, 11] Results : 0.5 Games played : 14\n",
      "Child : [16, 12] Results : 0.3333333333333333 Games played : 6\n",
      "Child : [16, 19] Results : 0.6224489795918368 Games played : 98\n",
      "Child : [16, 20] Results : 0.0 Games played : 2\n",
      "Child : [32, 27] Results : 0.25 Games played : 4\n",
      "Child : [32, 28] Results : 0.5714285714285714 Games played : 42\n"
     ]
    },
    {
     "name": "stderr",
     "output_type": "stream",
     "text": [
      "  2%|█▋                                                                                | 4/200 [00:00<00:06, 31.71it/s]"
     ]
    },
    {
     "name": "stdout",
     "output_type": "stream",
     "text": [
      "Le move choisi par l'agent 2 est : [16, 11] d'une valeur de 0.5\n"
     ]
    },
    {
     "name": "stderr",
     "output_type": "stream",
     "text": [
      "100%|████████████████████████████████████████████████████████████████████████████████| 200/200 [00:05<00:00, 37.44it/s]\n",
      "  2%|█▏                                                                                | 3/200 [00:00<00:08, 23.70it/s]"
     ]
    },
    {
     "name": "stdout",
     "output_type": "stream",
     "text": [
      "Child : [4, 8] Results : 0.38461538461538464 Games played : 13\n",
      "Child : [17, 21] Results : 0.2 Games played : 5\n",
      "Child : [17, 22] Results : 0.38461538461538464 Games played : 13\n",
      "Child : [17, 13] Results : 0.0 Games played : 2\n",
      "Child : [17, 14] Results : 0.36363636363636365 Games played : 11\n",
      "Child : [26, 30] Results : 0.0 Games played : 2\n",
      "Child : [26, 31] Results : 0.6688311688311688 Games played : 154\n",
      "Le move choisi par l'agent 1 est : [26, 31] d'une valeur de 0.669\n"
     ]
    },
    {
     "name": "stderr",
     "output_type": "stream",
     "text": [
      "100%|████████████████████████████████████████████████████████████████████████████████| 200/200 [00:07<00:00, 27.51it/s]\n"
     ]
    },
    {
     "name": "stdout",
     "output_type": "stream",
     "text": [
      "Child : [7, 2] Results : 0.5434782608695652 Games played : 46\n",
      "Child : [7, 3] Results : 0.0 Games played : 2\n",
      "Child : [11, 8] Results : 0.0 Games played : 2\n",
      "Child : [11, 16] Results : 0.5789473684210527 Games played : 76\n",
      "Child : [15, 10] Results : 0.5535714285714286 Games played : 56\n",
      "Child : [32, 27] Results : 0.0 Games played : 2\n",
      "Child : [32, 28] Results : 0.4375 Games played : 16\n"
     ]
    },
    {
     "name": "stderr",
     "output_type": "stream",
     "text": [
      "  2%|█▏                                                                                | 3/200 [00:00<00:08, 22.51it/s]"
     ]
    },
    {
     "name": "stdout",
     "output_type": "stream",
     "text": [
      "Le move choisi par l'agent 2 est : [11, 16] d'une valeur de 0.579\n"
     ]
    },
    {
     "name": "stderr",
     "output_type": "stream",
     "text": [
      "100%|████████████████████████████████████████████████████████████████████████████████| 200/200 [00:07<00:00, 25.31it/s]\n",
      "  2%|█▏                                                                                | 3/200 [00:00<00:07, 28.10it/s]"
     ]
    },
    {
     "name": "stdout",
     "output_type": "stream",
     "text": [
      "Child : [4, 8] Results : 0.0 Games played : 4\n",
      "Child : [17, 21] Results : 0.125 Games played : 8\n",
      "Child : [17, 22] Results : 0.0 Games played : 4\n",
      "Child : [17, 13] Results : 0.3 Games played : 30\n",
      "Child : [17, 14] Results : 0.23529411764705882 Games played : 17\n",
      "Child : [31, 26] Results : 0.3968253968253968 Games played : 126\n",
      "Child : [31, 27] Results : 0.18181818181818182 Games played : 11\n",
      "Le move choisi par l'agent 1 est : [31, 26] d'une valeur de 0.397\n"
     ]
    },
    {
     "name": "stderr",
     "output_type": "stream",
     "text": [
      "100%|████████████████████████████████████████████████████████████████████████████████| 200/200 [00:08<00:00, 23.99it/s]\n"
     ]
    },
    {
     "name": "stdout",
     "output_type": "stream",
     "text": [
      "Child : [7, 2] Results : 0.45 Games played : 20\n",
      "Child : [7, 3] Results : 0.46153846153846156 Games played : 26\n",
      "Child : [15, 10] Results : 0.0 Games played : 2\n",
      "Child : [15, 11] Results : 0.2 Games played : 5\n",
      "Child : [16, 11] Results : 0.2857142857142857 Games played : 7\n",
      "Child : [16, 12] Results : 0.5405405405405406 Games played : 37\n",
      "Child : [16, 19] Results : 0.48484848484848486 Games played : 33\n",
      "Child : [16, 20] Results : 0.5121951219512195 Games played : 41\n",
      "Child : [32, 27] Results : 0.2857142857142857 Games played : 7\n",
      "Child : [32, 28] Results : 0.45454545454545453 Games played : 22\n"
     ]
    },
    {
     "name": "stderr",
     "output_type": "stream",
     "text": [
      "  2%|█▋                                                                                | 4/200 [00:00<00:06, 29.55it/s]"
     ]
    },
    {
     "name": "stdout",
     "output_type": "stream",
     "text": [
      "Le move choisi par l'agent 2 est : [16, 12] d'une valeur de 0.541\n"
     ]
    },
    {
     "name": "stderr",
     "output_type": "stream",
     "text": [
      "100%|████████████████████████████████████████████████████████████████████████████████| 200/200 [00:07<00:00, 25.74it/s]\n",
      "  2%|█▏                                                                                | 3/200 [00:00<00:06, 29.24it/s]"
     ]
    },
    {
     "name": "stdout",
     "output_type": "stream",
     "text": [
      "Child : [4, 8] Results : 0.0 Games played : 3\n",
      "Child : [17, 21] Results : 0.16666666666666666 Games played : 6\n",
      "Child : [17, 22] Results : 0.3 Games played : 10\n",
      "Child : [17, 13] Results : 0.5495495495495496 Games played : 111\n",
      "Child : [17, 14] Results : 0.3 Games played : 10\n",
      "Child : [26, 30] Results : 0.4 Games played : 25\n",
      "Child : [26, 31] Results : 0.3333333333333333 Games played : 12\n",
      "Child : [26, 22] Results : 0.35294117647058826 Games played : 17\n",
      "Child : [26, 23] Results : 0.16666666666666666 Games played : 6\n",
      "Le move choisi par l'agent 1 est : [17, 13] d'une valeur de 0.55\n"
     ]
    },
    {
     "name": "stderr",
     "output_type": "stream",
     "text": [
      "100%|████████████████████████████████████████████████████████████████████████████████| 200/200 [00:07<00:00, 25.61it/s]\n"
     ]
    },
    {
     "name": "stdout",
     "output_type": "stream",
     "text": [
      "Child : [7, 2] Results : 0.36363636363636365 Games played : 11\n",
      "Child : [7, 3] Results : 0.4 Games played : 15\n",
      "Child : [12, 8] Results : 0.0 Games played : 3\n",
      "Child : [12, 16] Results : 0.5102040816326531 Games played : 49\n",
      "Child : [15, 10] Results : 0.546875 Games played : 64\n",
      "Child : [15, 11] Results : 0.4642857142857143 Games played : 28\n",
      "Child : [32, 27] Results : 0.3333333333333333 Games played : 9\n",
      "Child : [32, 28] Results : 0.42857142857142855 Games played : 21\n"
     ]
    },
    {
     "name": "stderr",
     "output_type": "stream",
     "text": [
      "  2%|█▋                                                                                | 4/200 [00:00<00:06, 28.02it/s]"
     ]
    },
    {
     "name": "stdout",
     "output_type": "stream",
     "text": [
      "Le move choisi par l'agent 2 est : [15, 10] d'une valeur de 0.547\n"
     ]
    },
    {
     "name": "stderr",
     "output_type": "stream",
     "text": [
      "100%|████████████████████████████████████████████████████████████████████████████████| 200/200 [00:04<00:00, 43.24it/s]\n",
      "  2%|█▋                                                                                | 4/200 [00:00<00:05, 36.74it/s]"
     ]
    },
    {
     "name": "stdout",
     "output_type": "stream",
     "text": [
      "Child : [4, 8] Results : 0.2727272727272727 Games played : 11\n",
      "Child : [13, 17] Results : 0.3125 Games played : 16\n",
      "Child : [13, 9] Results : 0.743801652892562 Games played : 121\n",
      "Child : [26, 30] Results : 0.0 Games played : 3\n",
      "Child : [26, 31] Results : 0.16666666666666666 Games played : 6\n",
      "Child : [26, 22] Results : 0.0 Games played : 3\n",
      "Child : [26, 23] Results : 0.4 Games played : 40\n",
      "Le move choisi par l'agent 1 est : [13, 9] d'une valeur de 0.744\n"
     ]
    },
    {
     "name": "stderr",
     "output_type": "stream",
     "text": [
      "100%|████████████████████████████████████████████████████████████████████████████████| 200/200 [00:06<00:00, 28.96it/s]\n"
     ]
    },
    {
     "name": "stdout",
     "output_type": "stream",
     "text": [
      "Child : [7, 2] Results : 0.35714285714285715 Games played : 14\n",
      "Child : [7, 3] Results : 0.2 Games played : 5\n",
      "Child : [10, 6] Results : 0.0 Games played : 3\n",
      "Child : [12, 8] Results : 0.47368421052631576 Games played : 38\n",
      "Child : [12, 16] Results : 0.47368421052631576 Games played : 38\n",
      "Child : [32, 27] Results : 0.4117647058823529 Games played : 17\n",
      "Child : [32, 28] Results : 0.5411764705882353 Games played : 85\n"
     ]
    },
    {
     "name": "stderr",
     "output_type": "stream",
     "text": [
      "  2%|██                                                                                | 5/200 [00:00<00:05, 35.03it/s]"
     ]
    },
    {
     "name": "stdout",
     "output_type": "stream",
     "text": [
      "Le move choisi par l'agent 2 est : [32, 28] d'une valeur de 0.541\n"
     ]
    },
    {
     "name": "stderr",
     "output_type": "stream",
     "text": [
      "100%|███████████████████████████████████████████████████████████████████████████████| 200/200 [00:01<00:00, 117.60it/s]\n",
      "  2%|██                                                                                | 5/200 [00:00<00:05, 36.55it/s]"
     ]
    },
    {
     "name": "stdout",
     "output_type": "stream",
     "text": [
      "Child : [4, 8] Results : 0.0 Games played : 1\n",
      "Child : [9, 13] Results : 0.0 Games played : 1\n",
      "Child : [9, 14] Results : 0.0 Games played : 1\n",
      "Child : [9, 5] Results : 0.42857142857142855 Games played : 7\n",
      "Child : [9, 6] Results : 0.0 Games played : 1\n",
      "Child : [26, 30] Results : 0.5454545454545454 Games played : 11\n",
      "Child : [26, 31] Results : 0.9252873563218391 Games played : 174\n",
      "Child : [26, 22] Results : 0.0 Games played : 1\n",
      "Child : [26, 23] Results : 0.3333333333333333 Games played : 3\n",
      "Le move choisi par l'agent 1 est : [26, 31] d'une valeur de 0.925\n"
     ]
    },
    {
     "name": "stderr",
     "output_type": "stream",
     "text": [
      "100%|████████████████████████████████████████████████████████████████████████████████| 200/200 [00:06<00:00, 31.90it/s]\n"
     ]
    },
    {
     "name": "stdout",
     "output_type": "stream",
     "text": [
      "Child : [7, 2] Results : 0.25 Games played : 8\n",
      "Child : [7, 3] Results : 0.567741935483871 Games played : 155\n",
      "Child : [10, 6] Results : 0.2 Games played : 5\n",
      "Child : [12, 8] Results : 0.2 Games played : 5\n",
      "Child : [12, 16] Results : 0.0 Games played : 3\n",
      "Child : [28, 24] Results : 0.4166666666666667 Games played : 24\n"
     ]
    },
    {
     "name": "stderr",
     "output_type": "stream",
     "text": [
      "  2%|█▏                                                                                | 3/200 [00:00<00:07, 27.03it/s]"
     ]
    },
    {
     "name": "stdout",
     "output_type": "stream",
     "text": [
      "Le move choisi par l'agent 2 est : [7, 3] d'une valeur de 0.568\n"
     ]
    },
    {
     "name": "stderr",
     "output_type": "stream",
     "text": [
      "100%|████████████████████████████████████████████████████████████████████████████████| 200/200 [00:03<00:00, 53.50it/s]\n",
      "  3%|██▍                                                                               | 6/200 [00:00<00:04, 42.20it/s]"
     ]
    },
    {
     "name": "stdout",
     "output_type": "stream",
     "text": [
      "Child : [4, 8] Results : 0.16666666666666666 Games played : 6\n",
      "Child : [9, 13] Results : 0.2727272727272727 Games played : 11\n",
      "Child : [9, 14] Results : 0.3125 Games played : 16\n",
      "Child : [9, 5] Results : 0.16666666666666666 Games played : 6\n",
      "Child : [9, 6] Results : 0.2222222222222222 Games played : 9\n",
      "Child : [31, 26] Results : 0.0 Games played : 3\n",
      "Child : [31, 27] Results : 0.8053691275167785 Games played : 149\n",
      "Le move choisi par l'agent 1 est : [31, 27] d'une valeur de 0.805\n"
     ]
    },
    {
     "name": "stderr",
     "output_type": "stream",
     "text": [
      "100%|████████████████████████████████████████████████████████████████████████████████| 200/200 [00:05<00:00, 37.21it/s]\n"
     ]
    },
    {
     "name": "stdout",
     "output_type": "stream",
     "text": [
      "Child : [3, 7] Results : 0.6293103448275862 Games played : 116\n",
      "Child : [3, 8] Results : 0.0 Games played : 2\n",
      "Child : [10, 6] Results : 0.0 Games played : 2\n",
      "Child : [10, 7] Results : 0.5666666666666667 Games played : 60\n",
      "Child : [12, 8] Results : 0.4 Games played : 10\n",
      "Child : [12, 16] Results : 0.2 Games played : 5\n",
      "Child : [28, 24] Results : 0.2 Games played : 5\n"
     ]
    },
    {
     "name": "stderr",
     "output_type": "stream",
     "text": [
      "  4%|███▎                                                                              | 8/200 [00:00<00:05, 37.08it/s]"
     ]
    },
    {
     "name": "stdout",
     "output_type": "stream",
     "text": [
      "Le move choisi par l'agent 2 est : [3, 7] d'une valeur de 0.629\n"
     ]
    },
    {
     "name": "stderr",
     "output_type": "stream",
     "text": [
      "100%|████████████████████████████████████████████████████████████████████████████████| 200/200 [00:02<00:00, 69.96it/s]\n",
      "  6%|████▍                                                                            | 11/200 [00:00<00:03, 49.34it/s]"
     ]
    },
    {
     "name": "stdout",
     "output_type": "stream",
     "text": [
      "Child : [4, 8] Results : 0.0 Games played : 3\n",
      "Child : [9, 13] Results : 0.3333333333333333 Games played : 18\n",
      "Child : [9, 14] Results : 0.8780487804878049 Games played : 123\n",
      "Child : [9, 5] Results : 0.36363636363636365 Games played : 22\n",
      "Child : [9, 6] Results : 0.16666666666666666 Games played : 6\n",
      "Child : [27, 31] Results : 0.25 Games played : 8\n",
      "Child : [27, 32] Results : 0.2727272727272727 Games played : 11\n",
      "Child : [27, 23] Results : 0.0 Games played : 3\n",
      "Child : [27, 24] Results : 0.16666666666666666 Games played : 6\n",
      "Le move choisi par l'agent 1 est : [9, 14] d'une valeur de 0.878\n"
     ]
    },
    {
     "name": "stderr",
     "output_type": "stream",
     "text": [
      "100%|████████████████████████████████████████████████████████████████████████████████| 200/200 [00:02<00:00, 90.26it/s]\n"
     ]
    },
    {
     "name": "stdout",
     "output_type": "stream",
     "text": [
      "Child : [7, 2] Results : 0.5714285714285714 Games played : 7\n",
      "Child : [7, 3] Results : 0.9180327868852459 Games played : 183\n",
      "Child : [7, 11] Results : 0.3333333333333333 Games played : 3\n",
      "Child : [10, 6] Results : 0.5 Games played : 4\n",
      "Child : [12, 8] Results : 0.0 Games played : 1\n",
      "Child : [12, 16] Results : 0.0 Games played : 1\n",
      "Child : [28, 24] Results : 0.0 Games played : 1\n"
     ]
    },
    {
     "name": "stderr",
     "output_type": "stream",
     "text": [
      "  2%|█▋                                                                                | 4/200 [00:00<00:05, 35.84it/s]"
     ]
    },
    {
     "name": "stdout",
     "output_type": "stream",
     "text": [
      "Le move choisi par l'agent 2 est : [7, 3] d'une valeur de 0.918\n",
      "Le move choisi par l'agent 1 est : [14, 7] d'une valeur de nan\n",
      "Le move choisi par l'agent 2 est : [3, 10] d'une valeur de nan\n"
     ]
    },
    {
     "name": "stderr",
     "output_type": "stream",
     "text": [
      "100%|████████████████████████████████████████████████████████████████████████████████| 200/200 [00:02<00:00, 73.87it/s]\n",
      "  4%|███▋                                                                              | 9/200 [00:00<00:04, 41.26it/s]"
     ]
    },
    {
     "name": "stdout",
     "output_type": "stream",
     "text": [
      "Child : [4, 8] Results : 0.1 Games played : 10\n",
      "Child : [27, 31] Results : 0.6529411764705882 Games played : 170\n",
      "Child : [27, 32] Results : 0.1 Games played : 10\n",
      "Child : [27, 23] Results : 0.0 Games played : 5\n",
      "Child : [27, 24] Results : 0.0 Games played : 5\n",
      "Le move choisi par l'agent 1 est : [27, 31] d'une valeur de 0.653\n"
     ]
    },
    {
     "name": "stderr",
     "output_type": "stream",
     "text": [
      "100%|████████████████████████████████████████████████████████████████████████████████| 200/200 [00:03<00:00, 51.98it/s]\n"
     ]
    },
    {
     "name": "stdout",
     "output_type": "stream",
     "text": [
      "Child : [10, 6] Results : 0.45454545454545453 Games played : 11\n",
      "Child : [10, 7] Results : 0.5 Games played : 14\n",
      "Child : [10, 14] Results : 0.7862595419847328 Games played : 131\n",
      "Child : [10, 15] Results : 0.5333333333333333 Games played : 15\n",
      "Child : [12, 8] Results : 0.25 Games played : 4\n",
      "Child : [12, 16] Results : 0.25 Games played : 4\n",
      "Child : [28, 24] Results : 0.5714285714285714 Games played : 21\n"
     ]
    },
    {
     "name": "stderr",
     "output_type": "stream",
     "text": [
      "  2%|██                                                                                | 5/200 [00:00<00:03, 50.00it/s]"
     ]
    },
    {
     "name": "stdout",
     "output_type": "stream",
     "text": [
      "Le move choisi par l'agent 2 est : [10, 14] d'une valeur de 0.786\n"
     ]
    },
    {
     "name": "stderr",
     "output_type": "stream",
     "text": [
      "100%|████████████████████████████████████████████████████████████████████████████████| 200/200 [00:04<00:00, 47.45it/s]\n",
      "  0%|                                                                                          | 0/200 [00:00<?, ?it/s]"
     ]
    },
    {
     "name": "stdout",
     "output_type": "stream",
     "text": [
      "Child : [4, 8] Results : 0.0 Games played : 9\n",
      "Child : [31, 26] Results : 0.3352272727272727 Games played : 176\n",
      "Child : [31, 27] Results : 0.06666666666666667 Games played : 15\n",
      "Le move choisi par l'agent 1 est : [31, 26] d'une valeur de 0.335\n"
     ]
    },
    {
     "name": "stderr",
     "output_type": "stream",
     "text": [
      "100%|███████████████████████████████████████████████████████████████████████████████| 200/200 [00:01<00:00, 128.14it/s]\n"
     ]
    },
    {
     "name": "stdout",
     "output_type": "stream",
     "text": [
      "Child : [12, 8] Results : 0.0 Games played : 1\n",
      "Child : [12, 16] Results : 0.5 Games played : 4\n",
      "Child : [14, 9] Results : 0.6666666666666666 Games played : 9\n",
      "Child : [14, 10] Results : 0.0 Games played : 1\n",
      "Child : [14, 17] Results : 0.6 Games played : 5\n",
      "Child : [14, 18] Results : 0.9829545454545454 Games played : 176\n",
      "Child : [28, 24] Results : 0.5 Games played : 4\n",
      "Le move choisi par l'agent 2 est : [14, 18] d'une valeur de 0.983"
     ]
    },
    {
     "name": "stderr",
     "output_type": "stream",
     "text": [
      "  3%|██▍                                                                               | 6/200 [00:00<00:03, 58.99it/s]"
     ]
    },
    {
     "name": "stdout",
     "output_type": "stream",
     "text": [
      "\n"
     ]
    },
    {
     "name": "stderr",
     "output_type": "stream",
     "text": [
      "100%|████████████████████████████████████████████████████████████████████████████████| 200/200 [00:04<00:00, 45.47it/s]\n",
      "  4%|███▎                                                                              | 8/200 [00:00<00:02, 79.27it/s]"
     ]
    },
    {
     "name": "stdout",
     "output_type": "stream",
     "text": [
      "Child : [4, 8] Results : 0.0 Games played : 7\n",
      "Child : [26, 30] Results : 0.21621621621621623 Games played : 37\n",
      "Child : [26, 31] Results : 0.36619718309859156 Games played : 142\n",
      "Child : [26, 22] Results : 0.0 Games played : 7\n",
      "Child : [26, 23] Results : 0.0 Games played : 7\n",
      "Le move choisi par l'agent 1 est : [26, 31] d'une valeur de 0.366\n"
     ]
    },
    {
     "name": "stderr",
     "output_type": "stream",
     "text": [
      "100%|███████████████████████████████████████████████████████████████████████████████| 200/200 [00:00<00:00, 250.72it/s]\n",
      "  4%|███▋                                                                              | 9/200 [00:00<00:02, 80.99it/s]"
     ]
    },
    {
     "name": "stdout",
     "output_type": "stream",
     "text": [
      "Child : [12, 8] Results : 0.0 Games played : 1\n",
      "Child : [12, 16] Results : 0.5 Games played : 4\n",
      "Child : [18, 14] Results : 0.8421052631578947 Games played : 19\n",
      "Child : [18, 15] Results : 0.0 Games played : 1\n",
      "Child : [18, 22] Results : 0.9866666666666667 Games played : 75\n",
      "Child : [18, 23] Results : 1.0 Games played : 99\n",
      "Child : [28, 24] Results : 0.0 Games played : 1\n",
      "Le move choisi par l'agent 2 est : [18, 22] d'une valeur de 0.987\n"
     ]
    },
    {
     "name": "stderr",
     "output_type": "stream",
     "text": [
      "100%|████████████████████████████████████████████████████████████████████████████████| 200/200 [00:03<00:00, 60.54it/s]\n",
      "  4%|██▊                                                                               | 7/200 [00:00<00:02, 65.19it/s]"
     ]
    },
    {
     "name": "stdout",
     "output_type": "stream",
     "text": [
      "Child : [4, 8] Results : 0.0 Games played : 6\n",
      "Child : [31, 26] Results : 0.0 Games played : 6\n",
      "Child : [31, 27] Results : 0.6117021276595744 Games played : 188\n",
      "Le move choisi par l'agent 1 est : [31, 27] d'une valeur de 0.612\n"
     ]
    },
    {
     "name": "stderr",
     "output_type": "stream",
     "text": [
      "100%|███████████████████████████████████████████████████████████████████████████████| 200/200 [00:01<00:00, 156.15it/s]\n",
      "  0%|                                                                                          | 0/200 [00:00<?, ?it/s]"
     ]
    },
    {
     "name": "stdout",
     "output_type": "stream",
     "text": [
      "Child : [12, 8] Results : 0.0 Games played : 1\n",
      "Child : [12, 16] Results : 0.0 Games played : 1\n",
      "Child : [22, 17] Results : 0.7 Games played : 10\n",
      "Child : [22, 18] Results : 0.9691358024691358 Games played : 162\n",
      "Child : [22, 25] Results : 0.5714285714285714 Games played : 7\n",
      "Child : [22, 26] Results : 0.8 Games played : 15\n",
      "Child : [28, 24] Results : 0.5 Games played : 4\n",
      "Le move choisi par l'agent 2 est : [22, 18] d'une valeur de 0.969\n"
     ]
    },
    {
     "name": "stderr",
     "output_type": "stream",
     "text": [
      "100%|███████████████████████████████████████████████████████████████████████████████| 200/200 [00:01<00:00, 167.15it/s]\n",
      "  4%|███▋                                                                              | 9/200 [00:00<00:02, 73.60it/s]"
     ]
    },
    {
     "name": "stdout",
     "output_type": "stream",
     "text": [
      "Child : [4, 8] Results : 0.0 Games played : 5\n",
      "Child : [27, 31] Results : 0.8444444444444444 Games played : 180\n",
      "Child : [27, 32] Results : 0.0 Games played : 5\n",
      "Child : [27, 23] Results : 0.0 Games played : 5\n",
      "Child : [27, 24] Results : 0.0 Games played : 5\n",
      "Le move choisi par l'agent 1 est : [27, 31] d'une valeur de 0.844\n"
     ]
    },
    {
     "name": "stderr",
     "output_type": "stream",
     "text": [
      "100%|███████████████████████████████████████████████████████████████████████████████| 200/200 [00:00<00:00, 286.36it/s]\n",
      "  0%|                                                                                          | 0/200 [00:00<?, ?it/s]"
     ]
    },
    {
     "name": "stdout",
     "output_type": "stream",
     "text": [
      "Child : [12, 8] Results : 0.6666666666666666 Games played : 9\n",
      "Child : [12, 16] Results : 0.6666666666666666 Games played : 6\n",
      "Child : [18, 14] Results : 0.6666666666666666 Games played : 6\n",
      "Child : [18, 15] Results : 0.0 Games played : 1\n",
      "Child : [18, 22] Results : 0.0 Games played : 1\n",
      "Child : [18, 23] Results : 1.0 Games played : 172\n",
      "Child : [28, 24] Results : 0.6 Games played : 5\n",
      "Le move choisi par l'agent 2 est : [18, 23] d'une valeur de 1.0\n"
     ]
    },
    {
     "name": "stderr",
     "output_type": "stream",
     "text": [
      "100%|███████████████████████████████████████████████████████████████████████████████| 200/200 [00:00<00:00, 966.38it/s]"
     ]
    },
    {
     "name": "stdout",
     "output_type": "stream",
     "text": [
      "Child : [4, 8] Results : 0.0 Games played : 67\n",
      "Child : [31, 26] Results : 0.0 Games played : 67\n",
      "Child : [31, 27] Results : 0.0 Games played : 66\n",
      "Le move choisi par l'agent 1 est : [31, 27] d'une valeur de 0.0\n",
      "Le move choisi par l'agent 2 est : [23, 32] d'une valeur de nan\n",
      "Le move choisi par l'agent 1 est : [4, 8] d'une valeur de nan\n",
      "Le move choisi par l'agent 2 est : [12, 3] d'une valeur de nan\n"
     ]
    },
    {
     "name": "stderr",
     "output_type": "stream",
     "text": [
      "\n"
     ]
    }
   ],
   "source": [
    "g = game.Game()\n",
    "n_iter = 200\n",
    "p1 = UCT(g, n_iter)\n",
    "p2 = RAVE(g, n_iter)\n",
    "winner = two_player_loop(g, p1, p2)\n",
    "winner_name = p1.name if winner == 1 else p2.name"
   ]
  },
  {
   "cell_type": "code",
   "execution_count": 5,
   "metadata": {},
   "outputs": [
    {
     "name": "stdout",
     "output_type": "stream",
     "text": [
      "Le gagnant est RAVE\n"
     ]
    }
   ],
   "source": [
    "print(f\"Le gagnant est {winner_name}\")"
   ]
  }
 ],
 "metadata": {
  "kernelspec": {
   "display_name": "Python 3",
   "language": "python",
   "name": "python3"
  },
  "language_info": {
   "codemirror_mode": {
    "name": "ipython",
    "version": 3
   },
   "file_extension": ".py",
   "mimetype": "text/x-python",
   "name": "python",
   "nbconvert_exporter": "python",
   "pygments_lexer": "ipython3",
   "version": "3.7.9"
  }
 },
 "nbformat": 4,
 "nbformat_minor": 4
}
