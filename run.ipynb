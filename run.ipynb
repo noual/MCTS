{
 "cells": [
  {
   "cell_type": "code",
   "execution_count": 1,
   "metadata": {},
   "outputs": [],
   "source": [
    "from src.mcts import *\n",
    "from src.node import *"
   ]
  },
  {
   "cell_type": "code",
   "execution_count": 2,
   "metadata": {},
   "outputs": [],
   "source": [
    "def two_player_loop(game: game.Game, p1_strat: MCTAlgorithm, p2_strat: MCTAlgorithm):\n",
    "    \"\"\"\n",
    "    Implémente une boucle qui fait jouer deux joueurs l'un contre l'autre.\n",
    "    \"\"\"\n",
    "    while not game.is_over():\n",
    "        turn = game.whose_turn()\n",
    "\n",
    "        # Choisir le mouvement pour l'agent 1 ou 2\n",
    "        if turn == 1:\n",
    "            move = p1_strat(turn)\n",
    "            \n",
    "        elif turn == 2:\n",
    "            move = p2_strat(turn)\n",
    "\n",
    "        print(f\"Le move choisi par l'agent {turn} est : {move.move} d'une valeur de {np.round(np.mean(move.results), 3)}\")\n",
    "        game.move(move.move)\n",
    "        p1_strat.root = Node(copy.deepcopy(game), game.whose_turn())\n",
    "        p2_strat.root = Node(copy.deepcopy(game), game.whose_turn())\n",
    "        \n",
    "    return game.get_winner()"
   ]
  },
  {
   "cell_type": "code",
   "execution_count": null,
   "metadata": {
    "scrolled": true
   },
   "outputs": [],
   "source": [
    "g = game.Game()\n",
    "n_iter = 200\n",
    "p1 = UCT(g, n_iter)\n",
    "p2 = RAVE(g, n_iter)\n",
    "winner = two_player_loop(g, p1, p2)\n",
    "winner_name = p1.name if winner == 1 else p2.name"
   ]
  },
  {
   "cell_type": "code",
   "execution_count": 5,
   "metadata": {},
   "outputs": [
    {
     "name": "stdout",
     "output_type": "stream",
     "text": [
      "Le gagnant est RAVE\n"
     ]
    }
   ],
   "source": [
    "print(f\"Le gagnant est {winner_name}\")"
   ]
  }
 ],
 "metadata": {
  "kernelspec": {
   "display_name": "Python 3",
   "language": "python",
   "name": "python3"
  },
  "language_info": {
   "codemirror_mode": {
    "name": "ipython",
    "version": 3
   },
   "file_extension": ".py",
   "mimetype": "text/x-python",
   "name": "python",
   "nbconvert_exporter": "python",
   "pygments_lexer": "ipython3",
   "version": "3.7.9"
  }
 },
 "nbformat": 4,
 "nbformat_minor": 4
}
